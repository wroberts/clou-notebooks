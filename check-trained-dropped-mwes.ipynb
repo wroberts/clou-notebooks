{
 "cells": [
  {
   "cell_type": "code",
   "execution_count": 3,
   "metadata": {
    "collapsed": false
   },
   "outputs": [],
   "source": [
    "import gzip\n",
    "import os\n",
    "MODEL_DIR=\"/work/robertsw/qtleap/mwe-v2\"\n",
    "MODEL_FILES = [os.path.join(MODEL_DIR, x) for x in ('model1_010_found_train.utf8.txt',\n",
    "               'model1_020_found_train.utf8.txt',\n",
    "               'model1_found_train.utf8.txt',\n",
    "               'model2_010_found_train.utf8.txt',\n",
    "               'model2_020_found_train.utf8.txt',\n",
    "               'model2_030_found_train.utf8.txt',\n",
    "               'model2_040_found_train.utf8.txt',\n",
    "               'model2_found_train.utf8.txt',\n",
    "               'model1_010_found_train.utf8.txt.orig',\n",
    "               'model1_020_found_train.utf8.txt.orig',\n",
    "               'model1_found_train.utf8.txt.orig',\n",
    "               'model2_010_found_train.utf8.txt.orig',\n",
    "               'model2_020_found_train.utf8.txt.orig',\n",
    "               'model2_030_found_train.utf8.txt.orig',\n",
    "               'model2_040_found_train.utf8.txt.orig',\n",
    "               'model2_found_train.utf8.txt.orig',)]\n",
    "MWE_LIST = os.path.join(MODEL_DIR, 'MWE_ID_en.utf8.txt.gz')"
   ]
  },
  {
   "cell_type": "code",
   "execution_count": 4,
   "metadata": {
    "collapsed": false
   },
   "outputs": [
    {
     "name": "stdout",
     "output_type": "stream",
     "text": [
      "[u'-0.216884', u'this individual as']\n"
     ]
    }
   ],
   "source": [
    "dropped_mwes = set()\n",
    "with gzip.open(MWE_LIST) as input_filename:\n",
    "    for line in input_filename:\n",
    "        line = line.decode('utf-8').strip().split('\\t')\n",
    "        if line[0] != '-2':\n",
    "            print line\n",
    "            break\n",
    "        dropped_mwes.add(line[1])"
   ]
  },
  {
   "cell_type": "code",
   "execution_count": 5,
   "metadata": {
    "collapsed": false
   },
   "outputs": [
    {
     "name": "stdout",
     "output_type": "stream",
     "text": [
      "/work/robertsw/qtleap/mwe-v2/model1_010_found_train.utf8.txt 0\n",
      "/work/robertsw/qtleap/mwe-v2/model1_020_found_train.utf8.txt 0\n",
      "/work/robertsw/qtleap/mwe-v2/model1_found_train.utf8.txt 0\n",
      "/work/robertsw/qtleap/mwe-v2/model2_010_found_train.utf8.txt 0\n",
      "/work/robertsw/qtleap/mwe-v2/model2_020_found_train.utf8.txt 0\n",
      "/work/robertsw/qtleap/mwe-v2/model2_030_found_train.utf8.txt 0\n",
      "/work/robertsw/qtleap/mwe-v2/model2_040_found_train.utf8.txt 0\n",
      "/work/robertsw/qtleap/mwe-v2/model2_found_train.utf8.txt 0\n",
      "/work/robertsw/qtleap/mwe-v2/model1_010_found_train.utf8.txt.orig 213\n",
      "/work/robertsw/qtleap/mwe-v2/model1_020_found_train.utf8.txt.orig 213\n",
      "/work/robertsw/qtleap/mwe-v2/model1_found_train.utf8.txt.orig 213\n",
      "/work/robertsw/qtleap/mwe-v2/model2_010_found_train.utf8.txt.orig 269\n",
      "/work/robertsw/qtleap/mwe-v2/model2_020_found_train.utf8.txt.orig 269\n",
      "/work/robertsw/qtleap/mwe-v2/model2_030_found_train.utf8.txt.orig 269\n",
      "/work/robertsw/qtleap/mwe-v2/model2_040_found_train.utf8.txt.orig 269\n",
      "/work/robertsw/qtleap/mwe-v2/model2_found_train.utf8.txt.orig 269\n"
     ]
    }
   ],
   "source": [
    "for filename in MODEL_FILES:\n",
    "    mwes = set()\n",
    "    with open(filename) as input_filename:\n",
    "        for line in input_filename:\n",
    "            line = line.decode('utf-8').strip()\n",
    "            mwes.add(line)\n",
    "    print filename, len(dropped_mwes & mwes)"
   ]
  },
  {
   "cell_type": "code",
   "execution_count": 6,
   "metadata": {
    "collapsed": false
   },
   "outputs": [
    {
     "data": {
      "text/plain": [
       "11938"
      ]
     },
     "execution_count": 6,
     "metadata": {},
     "output_type": "execute_result"
    }
   ],
   "source": [
    "len(dropped_mwes)"
   ]
  },
  {
   "cell_type": "code",
   "execution_count": 20,
   "metadata": {
    "collapsed": false
   },
   "outputs": [
    {
     "data": {
      "text/plain": [
       "[u'\\u0301 \\u043b\\u043e\\u0432',\n",
       " u'S\\xedol Muireadaigh',\n",
       " u'Giggleswick Castleberg',\n",
       " u'Splashin Safari',\n",
       " u'Le Tallec',\n",
       " u'Ellen Datlow',\n",
       " u'state archive Statny',\n",
       " u'Mahidasht Rural District',\n",
       " u'Emmy-award winning',\n",
       " u'Split-Dalmatia County',\n",
       " u'Akim Tamiroff',\n",
       " u'Milicja Obywatelska',\n",
       " u'Bulgarian \\u0414\\u0438\\u043c\\u0438\\u0442\\u044a\\u0440',\n",
       " u'sardinian language',\n",
       " u'Nevezis Kedainiai',\n",
       " u'Togail Bruidne D\\xe1',\n",
       " u'W\\u0142odzimierz Szaranowicz',\n",
       " u'Sanfrecce Hiroshima',\n",
       " u'Gmina Lubycza Kr\\xf3lewska',\n",
       " u'forest-savanna mosaic']"
      ]
     },
     "execution_count": 20,
     "metadata": {},
     "output_type": "execute_result"
    }
   ],
   "source": [
    "import random\n",
    "def shuffled(a): b = list(a)[:];  random.shuffle(b); return b\n",
    "shuffled(dropped_mwes)[:20]"
   ]
  },
  {
   "cell_type": "code",
   "execution_count": 22,
   "metadata": {
    "collapsed": false
   },
   "outputs": [
    {
     "name": "stdout",
     "output_type": "stream",
     "text": [
      "# On branch master\n",
      "# Changes not staged for commit:\n",
      "#   (use \"git add <file>...\" to update what will be committed)\n",
      "#   (use \"git checkout -- <file>...\" to discard changes in working directory)\n",
      "#\n",
      "#\tmodified:   check-trained-dropped-mwes.ipynb\n",
      "#\n",
      "# Untracked files:\n",
      "#   (use \"git add <file>...\" to include in what will be committed)\n",
      "#\n",
      "#\t.ipynb_checkpoints/\n",
      "no changes added to commit (use \"git add\" and/or \"git commit -a\")\n"
     ]
    }
   ],
   "source": [
    "%%bash\n",
    "git status"
   ]
  },
  {
   "cell_type": "code",
   "execution_count": 23,
   "metadata": {
    "collapsed": false
   },
   "outputs": [
    {
     "name": "stdout",
     "output_type": "stream",
     "text": [
      "[master fc17831] check-trained-dropped-mwes.ipynb: work\n",
      " 1 files changed, 240 insertions(+), 1152 deletions(-)\n",
      " rewrite check-trained-dropped-mwes.ipynb (89%)\n"
     ]
    },
    {
     "name": "stderr",
     "output_type": "stream",
     "text": [
      "To git@github.com:wroberts/clou-notebooks.git\n",
      "   dacc728..fc17831  master -> master\n"
     ]
    }
   ],
   "source": [
    "%%bash\n",
    "git add check-trained-dropped-mwes.ipynb\n",
    "git commit -m 'check-trained-dropped-mwes.ipynb: work'\n",
    "git push"
   ]
  }
 ],
 "metadata": {
  "kernelspec": {
   "display_name": "Python 2",
   "language": "python",
   "name": "python2"
  },
  "language_info": {
   "codemirror_mode": {
    "name": "ipython",
    "version": 2
   },
   "file_extension": ".py",
   "mimetype": "text/x-python",
   "name": "python",
   "nbconvert_exporter": "python",
   "pygments_lexer": "ipython2",
   "version": "2.7.11"
  }
 },
 "nbformat": 4,
 "nbformat_minor": 0
}
