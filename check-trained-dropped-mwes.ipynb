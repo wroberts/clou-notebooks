{
 "cells": [
  {
   "cell_type": "code",
   "execution_count": 3,
   "metadata": {
    "collapsed": false
   },
   "outputs": [],
   "source": [
    "import gzip\n",
    "import os\n",
    "MODEL_DIR=\"/work/robertsw/qtleap/mwe-v2\"\n",
    "MODEL_FILES = [os.path.join(MODEL_DIR, x) for x in ('model1_010_found_train.utf8.txt',\n",
    "               'model1_020_found_train.utf8.txt',\n",
    "               'model1_found_train.utf8.txt',\n",
    "               'model2_010_found_train.utf8.txt',\n",
    "               'model2_020_found_train.utf8.txt',\n",
    "               'model2_030_found_train.utf8.txt',\n",
    "               'model2_040_found_train.utf8.txt',\n",
    "               'model2_found_train.utf8.txt',\n",
    "               'model1_010_found_train.utf8.txt.orig',\n",
    "               'model1_020_found_train.utf8.txt.orig',\n",
    "               'model1_found_train.utf8.txt.orig',\n",
    "               'model2_010_found_train.utf8.txt.orig',\n",
    "               'model2_020_found_train.utf8.txt.orig',\n",
    "               'model2_030_found_train.utf8.txt.orig',\n",
    "               'model2_040_found_train.utf8.txt.orig',\n",
    "               'model2_found_train.utf8.txt.orig',)]\n",
    "MWE_LIST = os.path.join(MODEL_DIR, 'MWE_ID_en.utf8.txt.gz')"
   ]
  },
  {
   "cell_type": "code",
   "execution_count": 4,
   "metadata": {
    "collapsed": false
   },
   "outputs": [
    {
     "name": "stdout",
     "output_type": "stream",
     "text": [
      "[u'-0.216884', u'this individual as']\n"
     ]
    }
   ],
   "source": [
    "dropped_mwes = set()\n",
    "with gzip.open(MWE_LIST) as input_filename:\n",
    "    for line in input_filename:\n",
    "        line = line.decode('utf-8').strip().split('\\t')\n",
    "        if line[0] != '-2':\n",
    "            print line\n",
    "            break\n",
    "        dropped_mwes.add(line[1])"
   ]
  },
  {
   "cell_type": "code",
   "execution_count": 5,
   "metadata": {
    "collapsed": false
   },
   "outputs": [
    {
     "name": "stdout",
     "output_type": "stream",
     "text": [
      "/work/robertsw/qtleap/mwe-v2/model1_010_found_train.utf8.txt 0\n",
      "/work/robertsw/qtleap/mwe-v2/model1_020_found_train.utf8.txt 0\n",
      "/work/robertsw/qtleap/mwe-v2/model1_found_train.utf8.txt 0\n",
      "/work/robertsw/qtleap/mwe-v2/model2_010_found_train.utf8.txt 0\n",
      "/work/robertsw/qtleap/mwe-v2/model2_020_found_train.utf8.txt 0\n",
      "/work/robertsw/qtleap/mwe-v2/model2_030_found_train.utf8.txt 0\n",
      "/work/robertsw/qtleap/mwe-v2/model2_040_found_train.utf8.txt 0\n",
      "/work/robertsw/qtleap/mwe-v2/model2_found_train.utf8.txt 0\n",
      "/work/robertsw/qtleap/mwe-v2/model1_010_found_train.utf8.txt.orig 213\n",
      "/work/robertsw/qtleap/mwe-v2/model1_020_found_train.utf8.txt.orig 213\n",
      "/work/robertsw/qtleap/mwe-v2/model1_found_train.utf8.txt.orig 213\n",
      "/work/robertsw/qtleap/mwe-v2/model2_010_found_train.utf8.txt.orig 269\n",
      "/work/robertsw/qtleap/mwe-v2/model2_020_found_train.utf8.txt.orig 269\n",
      "/work/robertsw/qtleap/mwe-v2/model2_030_found_train.utf8.txt.orig 269\n",
      "/work/robertsw/qtleap/mwe-v2/model2_040_found_train.utf8.txt.orig 269\n",
      "/work/robertsw/qtleap/mwe-v2/model2_found_train.utf8.txt.orig 269\n"
     ]
    }
   ],
   "source": [
    "for filename in MODEL_FILES:\n",
    "    mwes = set()\n",
    "    with open(filename) as input_filename:\n",
    "        for line in input_filename:\n",
    "            line = line.decode('utf-8').strip()\n",
    "            mwes.add(line)\n",
    "    print filename, len(dropped_mwes & mwes)"
   ]
  },
  {
   "cell_type": "code",
   "execution_count": 6,
   "metadata": {
    "collapsed": false
   },
   "outputs": [
    {
     "data": {
      "text/plain": [
       "11938"
      ]
     },
     "execution_count": 6,
     "metadata": {},
     "output_type": "execute_result"
    }
   ],
   "source": [
    "len(dropped_mwes)"
   ]
  },
  {
   "cell_type": "code",
   "execution_count": 11,
   "metadata": {
    "collapsed": false
   },
   "outputs": [
    {
     "data": {
      "text/plain": [
       "[u'\")\\u2212 1',\n",
       " u'\"\\u2014 weiler',\n",
       " u'\"\\u2014&# X200B',\n",
       " u'$11.6 million',\n",
       " u'$23.5 million',\n",
       " u'$24.5 million',\n",
       " u'$25.5 million',\n",
       " u'$28.5 million',\n",
       " u'$297.00. Po\\xe7os',\n",
       " u'$32.5 million',\n",
       " u'$35.4 million by',\n",
       " u'$544.4 million',\n",
       " u'$856 million for',\n",
       " u'$9.34 billion for',\n",
       " u'(\\u2202 \\u03a9',\n",
       " u'+/\\u2013 Plus-minus',\n",
       " u'+\\u21e7 Shift',\n",
       " u'-0 65em width',\n",
       " u'-16 \\u03b1-hydroxykaurane',\n",
       " u'-Visual Spirits-']"
      ]
     },
     "execution_count": 11,
     "metadata": {},
     "output_type": "execute_result"
    }
   ],
   "source": [
    "sorted(dropped_mwes)[:20]"
   ]
  },
  {
   "cell_type": "code",
   "execution_count": 12,
   "metadata": {
    "collapsed": false
   },
   "outputs": [
    {
     "name": "stdout",
     "output_type": "stream",
     "text": [
      "# On branch master\n",
      "# Changes not staged for commit:\n",
      "#   (use \"git add <file>...\" to update what will be committed)\n",
      "#   (use \"git checkout -- <file>...\" to discard changes in working directory)\n",
      "#\n",
      "#\tmodified:   check-trained-dropped-mwes.ipynb\n",
      "#\n",
      "# Untracked files:\n",
      "#   (use \"git add <file>...\" to include in what will be committed)\n",
      "#\n",
      "#\t.ipynb_checkpoints/\n",
      "no changes added to commit (use \"git add\" and/or \"git commit -a\")\n"
     ]
    }
   ],
   "source": [
    "%%bash\n",
    "git status"
   ]
  },
  {
   "cell_type": "code",
   "execution_count": 15,
   "metadata": {
    "collapsed": false
   },
   "outputs": [
    {
     "ename": "AttributeError",
     "evalue": "'module' object has no attribute 'shuffled'",
     "output_type": "error",
     "traceback": [
      "\u001b[1;31m---------------------------------------------------------------------------\u001b[0m",
      "\u001b[1;31mAttributeError\u001b[0m                            Traceback (most recent call last)",
      "\u001b[1;32m<ipython-input-15-931f6022f106>\u001b[0m in \u001b[0;36m<module>\u001b[1;34m()\u001b[0m\n\u001b[0;32m      1\u001b[0m \u001b[1;32mimport\u001b[0m \u001b[0mrandom\u001b[0m\u001b[1;33m\u001b[0m\u001b[0m\n\u001b[0;32m      2\u001b[0m \u001b[0ma\u001b[0m\u001b[1;33m=\u001b[0m\u001b[0mrange\u001b[0m\u001b[1;33m(\u001b[0m\u001b[1;36m5\u001b[0m\u001b[1;33m)\u001b[0m\u001b[1;33m\u001b[0m\u001b[0m\n\u001b[1;32m----> 3\u001b[1;33m \u001b[0mrandom\u001b[0m\u001b[1;33m.\u001b[0m\u001b[0mshuffled\u001b[0m\u001b[1;33m(\u001b[0m\u001b[0ma\u001b[0m\u001b[1;33m)\u001b[0m\u001b[1;33m\u001b[0m\u001b[0m\n\u001b[0m",
      "\u001b[1;31mAttributeError\u001b[0m: 'module' object has no attribute 'shuffled'"
     ]
    }
   ],
   "source": [
    "import random\n",
    "a=range(5)\n",
    "random.shuffled(a)"
   ]
  }
 ],
 "metadata": {
  "kernelspec": {
   "display_name": "Python 2",
   "language": "python",
   "name": "python2"
  },
  "language_info": {
   "codemirror_mode": {
    "name": "ipython",
    "version": 2
   },
   "file_extension": ".py",
   "mimetype": "text/x-python",
   "name": "python",
   "nbconvert_exporter": "python",
   "pygments_lexer": "ipython2",
   "version": "2.7.11"
  }
 },
 "nbformat": 4,
 "nbformat_minor": 0
}
